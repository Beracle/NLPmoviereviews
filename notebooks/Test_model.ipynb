{
 "cells": [
  {
   "cell_type": "markdown",
   "metadata": {},
   "source": [
    "# Test prediction on saved model"
   ]
  },
  {
   "cell_type": "code",
   "execution_count": 7,
   "metadata": {},
   "outputs": [],
   "source": [
    "import gensim.downloader as api\n",
    "from tensorflow.keras.models import load_model\n",
    "from NLPmoviereviews.main import predict_score"
   ]
  },
  {
   "cell_type": "code",
   "execution_count": 9,
   "metadata": {},
   "outputs": [],
   "source": [
    "MODEL='../saved_model/nlp_model/'\n",
    "\n",
    "model=load_model(MODEL)\n"
   ]
  },
  {
   "cell_type": "code",
   "execution_count": 10,
   "metadata": {},
   "outputs": [],
   "source": [
    "review='''\n",
    "I love when a great, independent thriller comes along and surprises me. Upon hearing that Ethan Hawke would be portraying a character who abducts young boys, I was turned off, because he never plays roles like this. I also know him to be a stellar performer regardless though, so I was all in no matter what. I'm glad I could excite myself enough to see this one in theatres because I think it was well-done all around. If you're a fan of thrillers in any way, here's why I think you should check out The Black Phone.  In a small town, young boys begin to go missing, with the only similarity between every abduction being that black balloons are always found at the crime scene. The man responsible for these kidnappings is known all over town as \"The Grabber\". The main focus of the film is on Finney (Mason Thames) and his sister Gwen (Madeleine McGraw). Being bullied at school and having an abusive father has made Finney very strong-minded. He is the next in line to be kidnapped as well. Captured and brought into an underground cellar, he must figure a way out.  I haven't seen Mason Thames in anything before, but for being a relatively new young actor, I think his work here was terrific. On top of that, Ethan Hawke gives a very creepy performance, which makes for some very tense scenes of dialogue between the two of them. The title of the film obviously implies that there will be a phone at some point throughout this film and the meaning behind the phone is what sold the movie to me. How it plays into everything happening was terrific. It kept me engaged and on the edge of my seat.  Overall, if I had to complain about something, it wouldn't be about any filmmaking aspects or storylines because everything is very solid here. Where I feel the film almost hurt itself is in the final two minutes, right before the credits rolled. Without giving anything away, I just don't feel that the final scene fit the tone of the rest of the film at all. It was a little silly, to be honest. I was able to look past it, but I found it to be a very bizarre choice. From the score to the performances, or the thrills to the downright unnerving sensibilities of \"The Grabber\", this film is simply great all around. It's simple, quaint, and yet very effective. The Black Phone is now playing in theatres, and for fans of this genre, I highly recommend it.\n",
    "'''"
   ]
  },
  {
   "cell_type": "code",
   "execution_count": 12,
   "metadata": {},
   "outputs": [],
   "source": [
    "review='terrible movie'"
   ]
  },
  {
   "cell_type": "code",
   "execution_count": 13,
   "metadata": {},
   "outputs": [
    {
     "data": {
      "text/plain": [
       "0.15470996"
      ]
     },
     "execution_count": 13,
     "metadata": {},
     "output_type": "execute_result"
    }
   ],
   "source": [
    "predict_score(model, review)"
   ]
  }
 ],
 "metadata": {
  "kernelspec": {
   "display_name": "Python 3.8.12 64-bit ('nlpreviews')",
   "language": "python",
   "name": "python3"
  },
  "language_info": {
   "codemirror_mode": {
    "name": "ipython",
    "version": 3
   },
   "file_extension": ".py",
   "mimetype": "text/x-python",
   "name": "python",
   "nbconvert_exporter": "python",
   "pygments_lexer": "ipython3",
   "version": "3.8.12"
  },
  "orig_nbformat": 4,
  "vscode": {
   "interpreter": {
    "hash": "ee746c72a738b4766abbe47eba1a9b843c7c76ef12d0764d08931a89c70eda30"
   }
  }
 },
 "nbformat": 4,
 "nbformat_minor": 2
}
