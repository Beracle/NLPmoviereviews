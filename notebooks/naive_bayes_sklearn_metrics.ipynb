{
 "cells": [
  {
   "cell_type": "markdown",
   "metadata": {},
   "source": [
    "# Baseline Naive Bayes model"
   ]
  },
  {
   "cell_type": "markdown",
   "metadata": {},
   "source": [
    "A Naive Bayes classifier determines the probability that an input text belongs to one of a set of classes, eg. predicting if a review is positive or negative.\n",
    "\n",
    "It is ‘Naive’ because it assumes the words in the text are independent (even though in reality, in natural human language, the order of words convey contextual information).  Despite these assumptions, Naive Bayes has a high degree of accuracy when predicting classes with only a small training set.\n",
    "\n",
    "- https://medium.com/the-data-science-publication/how-to-predict-natural-language-sentiment-using-naive-bayes-classifier-6ab6eb28fd6d\n",
    "- Baines, O., Naive Bayes: Machine Learning and Text Classification Application of Bayes’ Theorem. https://journals.le.ac.uk/ojs1/index.php/lumj/article/download/3484/3110"
   ]
  },
  {
   "cell_type": "code",
   "execution_count": 2,
   "metadata": {},
   "outputs": [],
   "source": [
    "import pandas as pd\n",
    "import sys\n",
    "sys.path.append(\"..\") # Adds higher directory to python modules path.\n",
    "from NLPmoviereviews.data import load_data_sent\n",
    "from NLPmoviereviews.utilities import preprocessing\n",
    "from sklearn.feature_extraction.text import CountVectorizer, TfidfVectorizer\n",
    "from sklearn.naive_bayes import MultinomialNB, ComplementNB\n",
    "from sklearn.model_selection import cross_validate\n",
    "from sklearn.metrics import ConfusionMatrixDisplay, classification_report"
   ]
  },
  {
   "cell_type": "markdown",
   "metadata": {},
   "source": [
    "## Load/inspect data"
   ]
  },
  {
   "cell_type": "code",
   "execution_count": 3,
   "metadata": {},
   "outputs": [
    {
     "name": "stderr",
     "output_type": "stream",
     "text": [
      "2022-08-09 13:04:58.136264: I tensorflow/core/platform/cpu_feature_guard.cc:142] This TensorFlow binary is optimized with oneAPI Deep Neural Network Library (oneDNN) to use the following CPU instructions in performance-critical operations:  SSE4.2\n",
      "To enable them in other operations, rebuild TensorFlow with the appropriate compiler flags.\n",
      "2022-08-09 13:04:58.183592: I tensorflow/compiler/mlir/mlir_graph_optimization_pass.cc:176] None of the MLIR Optimization Passes are enabled (registered 2)\n"
     ]
    }
   ],
   "source": [
    "# load data\n",
    "X_train, y_train, X_test, y_test = load_data_sent(percentage_of_sentences=10)"
   ]
  },
  {
   "cell_type": "code",
   "execution_count": 4,
   "metadata": {},
   "outputs": [
    {
     "data": {
      "text/html": [
       "<div>\n",
       "<style scoped>\n",
       "    .dataframe tbody tr th:only-of-type {\n",
       "        vertical-align: middle;\n",
       "    }\n",
       "\n",
       "    .dataframe tbody tr th {\n",
       "        vertical-align: top;\n",
       "    }\n",
       "\n",
       "    .dataframe thead th {\n",
       "        text-align: right;\n",
       "    }\n",
       "</style>\n",
       "<table border=\"1\" class=\"dataframe\">\n",
       "  <thead>\n",
       "    <tr style=\"text-align: right;\">\n",
       "      <th></th>\n",
       "      <th>text</th>\n",
       "      <th>sentiment</th>\n",
       "    </tr>\n",
       "  </thead>\n",
       "  <tbody>\n",
       "    <tr>\n",
       "      <th>0</th>\n",
       "      <td>this was an absolutely terrible movie don't be...</td>\n",
       "      <td>0</td>\n",
       "    </tr>\n",
       "    <tr>\n",
       "      <th>1</th>\n",
       "      <td>i have been known to fall asleep during films ...</td>\n",
       "      <td>0</td>\n",
       "    </tr>\n",
       "    <tr>\n",
       "      <th>2</th>\n",
       "      <td>mann photographs the alberta rocky mountains i...</td>\n",
       "      <td>0</td>\n",
       "    </tr>\n",
       "    <tr>\n",
       "      <th>3</th>\n",
       "      <td>this is the kind of film for a snowy sunday af...</td>\n",
       "      <td>1</td>\n",
       "    </tr>\n",
       "    <tr>\n",
       "      <th>4</th>\n",
       "      <td>as others have mentioned all the women that go...</td>\n",
       "      <td>1</td>\n",
       "    </tr>\n",
       "  </tbody>\n",
       "</table>\n",
       "</div>"
      ],
      "text/plain": [
       "                                                text  sentiment\n",
       "0  this was an absolutely terrible movie don't be...          0\n",
       "1  i have been known to fall asleep during films ...          0\n",
       "2  mann photographs the alberta rocky mountains i...          0\n",
       "3  this is the kind of film for a snowy sunday af...          1\n",
       "4  as others have mentioned all the women that go...          1"
      ]
     },
     "execution_count": 4,
     "metadata": {},
     "output_type": "execute_result"
    }
   ],
   "source": [
    "# create dataframe from data\n",
    "d = {'text': X_train, 'sentiment': y_train}\n",
    "df = pd.DataFrame(d)\n",
    "\n",
    "df.head()"
   ]
  },
  {
   "cell_type": "code",
   "execution_count": 5,
   "metadata": {},
   "outputs": [
    {
     "data": {
      "text/plain": [
       "(2500, 2)"
      ]
     },
     "execution_count": 5,
     "metadata": {},
     "output_type": "execute_result"
    }
   ],
   "source": [
    "# check shape\n",
    "df.shape"
   ]
  },
  {
   "cell_type": "code",
   "execution_count": 6,
   "metadata": {},
   "outputs": [
    {
     "data": {
      "text/plain": [
       "0    1265\n",
       "1    1235\n",
       "Name: sentiment, dtype: int64"
      ]
     },
     "execution_count": 6,
     "metadata": {},
     "output_type": "execute_result"
    }
   ],
   "source": [
    "# check class balance (it's pretty balanced)\n",
    "df.sentiment.value_counts()"
   ]
  },
  {
   "cell_type": "code",
   "execution_count": 7,
   "metadata": {},
   "outputs": [
    {
     "data": {
      "text/plain": [
       "\"this was an absolutely terrible movie don't be lured in by christopher walken or michael ironside both are great actors but this must simply be their worst role in history even their great acting could not redeem this movie's ridiculous storyline this movie is an early nineties us propaganda piece the most pathetic scenes were those when the columbian rebels were making their cases for revolutions maria conchita alonso appeared phony and her pseudo love affair with walken was nothing but a pathetic emotional plug in a movie that was devoid of any real meaning i am disappointed that there are movies like this ruining actor's like christopher walken's good name i could barely sit through it\""
      ]
     },
     "execution_count": 7,
     "metadata": {},
     "output_type": "execute_result"
    }
   ],
   "source": [
    "df.text[0]"
   ]
  },
  {
   "cell_type": "markdown",
   "metadata": {},
   "source": [
    "## Preprocess"
   ]
  },
  {
   "cell_type": "markdown",
   "metadata": {},
   "source": [
    "removing custom stop words improves score (negligible, + ~0.002%)"
   ]
  },
  {
   "cell_type": "code",
   "execution_count": 8,
   "metadata": {},
   "outputs": [],
   "source": [
    "# remove custom stop-words (improves accuracy)\n",
    "def rm_custom_stops(sentence):\n",
    "    '''\n",
    "    Custom stop word remover\n",
    "    Parameters:\n",
    "        sentence (str): a string of words\n",
    "    Returns:\n",
    "        list_of_words (list): cleaned sentence as a list of words\n",
    "    '''\n",
    "    words = sentence.split()\n",
    "    stop_words = {'br', 'movie', 'film'}\n",
    "    cleaned_words = [w for w in words if not w in stop_words]\n",
    "    return ' '.join(cleaned_words)"
   ]
  },
  {
   "cell_type": "code",
   "execution_count": 9,
   "metadata": {},
   "outputs": [
    {
     "data": {
      "text/html": [
       "<div>\n",
       "<style scoped>\n",
       "    .dataframe tbody tr th:only-of-type {\n",
       "        vertical-align: middle;\n",
       "    }\n",
       "\n",
       "    .dataframe tbody tr th {\n",
       "        vertical-align: top;\n",
       "    }\n",
       "\n",
       "    .dataframe thead th {\n",
       "        text-align: right;\n",
       "    }\n",
       "</style>\n",
       "<table border=\"1\" class=\"dataframe\">\n",
       "  <thead>\n",
       "    <tr style=\"text-align: right;\">\n",
       "      <th></th>\n",
       "      <th>text</th>\n",
       "      <th>sentiment</th>\n",
       "    </tr>\n",
       "  </thead>\n",
       "  <tbody>\n",
       "    <tr>\n",
       "      <th>0</th>\n",
       "      <td>absolutely terrible dont lure christopher walk...</td>\n",
       "      <td>0</td>\n",
       "    </tr>\n",
       "    <tr>\n",
       "      <th>1</th>\n",
       "      <td>know fall asleep usually due combination thing...</td>\n",
       "      <td>0</td>\n",
       "    </tr>\n",
       "    <tr>\n",
       "      <th>2</th>\n",
       "      <td>mann photograph alberta rocky mountain superb ...</td>\n",
       "      <td>0</td>\n",
       "    </tr>\n",
       "    <tr>\n",
       "      <th>3</th>\n",
       "      <td>kind snowy sunday afternoon rest world go ahea...</td>\n",
       "      <td>1</td>\n",
       "    </tr>\n",
       "    <tr>\n",
       "      <th>4</th>\n",
       "      <td>others mention woman go nude mostly absolutely...</td>\n",
       "      <td>1</td>\n",
       "    </tr>\n",
       "  </tbody>\n",
       "</table>\n",
       "</div>"
      ],
      "text/plain": [
       "                                                text  sentiment\n",
       "0  absolutely terrible dont lure christopher walk...          0\n",
       "1  know fall asleep usually due combination thing...          0\n",
       "2  mann photograph alberta rocky mountain superb ...          0\n",
       "3  kind snowy sunday afternoon rest world go ahea...          1\n",
       "4  others mention woman go nude mostly absolutely...          1"
      ]
     },
     "execution_count": 9,
     "metadata": {},
     "output_type": "execute_result"
    }
   ],
   "source": [
    "# clean text data\n",
    "df['text'] = df.text.apply(preprocessing)\n",
    "df['text'] = df.text.apply(rm_custom_stops)\n",
    "df.head()"
   ]
  },
  {
   "cell_type": "markdown",
   "metadata": {},
   "source": [
    "Note: Changing n-grams doesn't seem to help. N-grams are the number of words around the target word to consider - increasing n-grams can help the machine understand a word in its context to better analyze the meaning of the word.\n",
    "\n",
    "Example:\n",
    "- vectorizer = CountVectorizer(ngram_range = (2,2)) # produces lower accuracy (78%)\n",
    "- vectorizer = CountVectorizer(ngram_range = (5,5)) # produces even lower accuracy (50%)\n"
   ]
  },
  {
   "cell_type": "code",
   "execution_count": 22,
   "metadata": {},
   "outputs": [],
   "source": [
    "# vectorize text (convert collection of texts to a matrix of token counts)\n",
    "vectorizer = CountVectorizer()\n",
    "X_train_count = vectorizer.fit_transform(df.text)"
   ]
  },
  {
   "cell_type": "markdown",
   "metadata": {},
   "source": [
    "## Process test data"
   ]
  },
  {
   "cell_type": "code",
   "execution_count": 23,
   "metadata": {},
   "outputs": [],
   "source": [
    "# process test data\n",
    "d_test = {'text': X_test}\n",
    "df_test = pd.DataFrame(d_test)      # create dataframe\n",
    "df_test['text'] = df_test.text.apply(preprocessing)     # preprocess\n",
    "df_test['text'] = df_test.text.apply(rm_custom_stops)\n",
    "X_test_count = vectorizer.transform(df_test.text)     # vectorize"
   ]
  },
  {
   "cell_type": "markdown",
   "metadata": {},
   "source": [
    "## Cross-validate model"
   ]
  },
  {
   "cell_type": "code",
   "execution_count": 24,
   "metadata": {},
   "outputs": [],
   "source": [
    "# initialize & cross validate a basic model\n",
    "naivebayes = MultinomialNB()\n",
    "cv_nb = cross_validate(naivebayes,\n",
    "                       X_train_count,\n",
    "                       y_train,\n",
    "                       scoring = \"accuracy\")"
   ]
  },
  {
   "cell_type": "code",
   "execution_count": 25,
   "metadata": {},
   "outputs": [
    {
     "data": {
      "text/plain": [
       "0.8276"
      ]
     },
     "execution_count": 25,
     "metadata": {},
     "output_type": "execute_result"
    }
   ],
   "source": [
    "# evaluate accuracy\n",
    "cv_nb['test_score'].mean()"
   ]
  },
  {
   "cell_type": "markdown",
   "metadata": {},
   "source": [
    "## Fit cross-validated model"
   ]
  },
  {
   "cell_type": "code",
   "execution_count": 26,
   "metadata": {},
   "outputs": [
    {
     "data": {
      "text/plain": [
       "MultinomialNB()"
      ]
     },
     "execution_count": 26,
     "metadata": {},
     "output_type": "execute_result"
    }
   ],
   "source": [
    "# fit model\n",
    "naivebayes.fit(X_train_count, y_train)"
   ]
  },
  {
   "cell_type": "markdown",
   "metadata": {},
   "source": [
    "## Evaluate model"
   ]
  },
  {
   "cell_type": "code",
   "execution_count": 27,
   "metadata": {},
   "outputs": [
    {
     "data": {
      "text/plain": [
       "0.808"
      ]
     },
     "execution_count": 27,
     "metadata": {},
     "output_type": "execute_result"
    }
   ],
   "source": [
    "# get accuracy score\n",
    "naivebayes.score(X_test_count, y_test)"
   ]
  },
  {
   "cell_type": "code",
   "execution_count": 28,
   "metadata": {},
   "outputs": [
    {
     "data": {
      "image/png": "[encoded data removed]",
      "text/plain": [
       "<Figure size 432x288 with 2 Axes>"
      ]
     },
     "metadata": {
      "needs_background": "light"
     },
     "output_type": "display_data"
    }
   ],
   "source": [
    "# Plot confusion matrix\n",
    "disp = ConfusionMatrixDisplay.from_estimator(naivebayes,\n",
    "                             X_test_count, y_test,\n",
    "                             cmap=\"Blues\");\n",
    "\n",
    "# 160 false positives, 323 false negatives"
   ]
  },
  {
   "cell_type": "code",
   "execution_count": 29,
   "metadata": {},
   "outputs": [
    {
     "name": "stdout",
     "output_type": "stream",
     "text": [
      "              precision    recall  f1-score   support\n",
      "\n",
      "           0       0.77      0.87      0.82      1230\n",
      "           1       0.86      0.75      0.80      1270\n",
      "\n",
      "    accuracy                           0.81      2500\n",
      "   macro avg       0.81      0.81      0.81      2500\n",
      "weighted avg       0.81      0.81      0.81      2500\n",
      "\n"
     ]
    }
   ],
   "source": [
    "# print classification report\n",
    "Y_predict = naivebayes.fit(X_train_count, y_train).predict(X_test_count)\n",
    "print(classification_report(y_test, Y_predict))"
   ]
  },
  {
   "cell_type": "markdown",
   "metadata": {},
   "source": [
    "# Alternative methods (trying to improve score, nothing worked)"
   ]
  },
  {
   "cell_type": "markdown",
   "metadata": {},
   "source": [
    "### Use TF-IDF vectorizer (term frequency inverse document frequency)\n",
    "\n",
    "TF-IDF looks at word frequency across all documents (reviews), and can help identify key words that are used by all reviews. This approach may help eliminate frequent, but therefore less meaningful, corpus-specific words."
   ]
  },
  {
   "cell_type": "code",
   "execution_count": 30,
   "metadata": {},
   "outputs": [
    {
     "data": {
      "text/plain": [
       "0.8024"
      ]
     },
     "execution_count": 30,
     "metadata": {},
     "output_type": "execute_result"
    }
   ],
   "source": [
    "vectorizer = TfidfVectorizer(max_df=0.3) # ignore words with a frequency higher than this %\n",
    "X_train_vec = vectorizer.fit_transform(df.text)\n",
    "X_test_vec = vectorizer.transform(df_test.text)\n",
    "model = MultinomialNB()\n",
    "model.fit(X_train_vec, y_train)\n",
    "model.score(X_test_vec, y_test)"
   ]
  },
  {
   "cell_type": "markdown",
   "metadata": {},
   "source": [
    "### Use ComplementNB model\n",
    "\n",
    "helps with unbalanced classes"
   ]
  },
  {
   "cell_type": "code",
   "execution_count": 31,
   "metadata": {},
   "outputs": [
    {
     "data": {
      "text/plain": [
       "0.808"
      ]
     },
     "execution_count": 31,
     "metadata": {},
     "output_type": "execute_result"
    }
   ],
   "source": [
    "vectorizer = CountVectorizer()\n",
    "X_train_vec = vectorizer.fit_transform(df.text)\n",
    "X_test_vec = vectorizer.transform(df_test.text)\n",
    "model = ComplementNB()\n",
    "model.fit(X_train_vec, y_train)\n",
    "model.score(X_test_vec, y_test)"
   ]
  },
  {
   "cell_type": "markdown",
   "metadata": {},
   "source": [
    "### Clean HTML tags\n",
    "\n",
    "clean data approach"
   ]
  },
  {
   "cell_type": "code",
   "execution_count": 32,
   "metadata": {},
   "outputs": [
    {
     "data": {
      "text/plain": [
       "0.808"
      ]
     },
     "execution_count": 32,
     "metadata": {},
     "output_type": "execute_result"
    }
   ],
   "source": [
    "import re\n",
    "\n",
    "# function to remove html tags from text\n",
    "def cleanHtml(review):\n",
    "    cleanreg = re.compile('<.*?>')\n",
    "    cleantxt = re.sub(cleanreg, ' ', review)\n",
    "    return cleantxt\n",
    "\n",
    "# load data\n",
    "X_train, y_train, X_test, y_test = load_data_sent(percentage_of_sentences=10)\n",
    "\n",
    "# process train data\n",
    "df = pd.DataFrame({'text': X_train})\n",
    "df.text = df.text.apply(cleanHtml)\n",
    "df['text'] = df.text.apply(preprocessing)\n",
    "df['text'] = df.text.apply(rm_custom_stops)\n",
    "# process test data\n",
    "df_test = pd.DataFrame({'text': X_test})\n",
    "df_test.text = df_test.text.apply(cleanHtml)\n",
    "df_test['text'] = df_test.text.apply(preprocessing)\n",
    "df_test['text'] = df_test.text.apply(rm_custom_stops)\n",
    "\n",
    "# modelling\n",
    "vectorizer = CountVectorizer()\n",
    "X_train_vec = vectorizer.fit_transform(df.text)\n",
    "X_test_vec = vectorizer.transform(df_test.text)\n",
    "model = ComplementNB()\n",
    "model.fit(X_train_vec, y_train)\n",
    "model.score(X_test_vec, y_test)"
   ]
  },
  {
   "cell_type": "markdown",
   "metadata": {},
   "source": [
    "# Extra EDA: Method to get frequency distribution of words"
   ]
  },
  {
   "cell_type": "code",
   "execution_count": 33,
   "metadata": {},
   "outputs": [
    {
     "data": {
      "text/html": [
       "<div>\n",
       "<style scoped>\n",
       "    .dataframe tbody tr th:only-of-type {\n",
       "        vertical-align: middle;\n",
       "    }\n",
       "\n",
       "    .dataframe tbody tr th {\n",
       "        vertical-align: top;\n",
       "    }\n",
       "\n",
       "    .dataframe thead th {\n",
       "        text-align: right;\n",
       "    }\n",
       "</style>\n",
       "<table border=\"1\" class=\"dataframe\">\n",
       "  <thead>\n",
       "    <tr style=\"text-align: right;\">\n",
       "      <th></th>\n",
       "      <th>text</th>\n",
       "      <th>Word Counts</th>\n",
       "    </tr>\n",
       "  </thead>\n",
       "  <tbody>\n",
       "    <tr>\n",
       "      <th>0</th>\n",
       "      <td>absolutely terrible dont lure christopher walk...</td>\n",
       "      <td>{'absolutely': 1, 'act': 1, 'actor': 2, 'affai...</td>\n",
       "    </tr>\n",
       "    <tr>\n",
       "      <th>1</th>\n",
       "      <td>know fall asleep usually due combination thing...</td>\n",
       "      <td>{'accord': 1, 'admit': 1, 'anything': 1, 'asle...</td>\n",
       "    </tr>\n",
       "    <tr>\n",
       "      <th>2</th>\n",
       "      <td>mann photograph alberta rocky mountain superb ...</td>\n",
       "      <td>{'alberta': 1, 'always': 1, 'american': 1, 'ap...</td>\n",
       "    </tr>\n",
       "    <tr>\n",
       "      <th>3</th>\n",
       "      <td>kind snowy sunday afternoon rest world go ahea...</td>\n",
       "      <td>{'afternoon': 1, 'ahead': 1, 'along': 1, 'alwa...</td>\n",
       "    </tr>\n",
       "    <tr>\n",
       "      <th>4</th>\n",
       "      <td>others mention woman go nude mostly absolutely...</td>\n",
       "      <td>{'ably': 1, 'absolutely': 1, 'age': 1, 'around...</td>\n",
       "    </tr>\n",
       "  </tbody>\n",
       "</table>\n",
       "</div>"
      ],
      "text/plain": [
       "                                                text  \\\n",
       "0  absolutely terrible dont lure christopher walk...   \n",
       "1  know fall asleep usually due combination thing...   \n",
       "2  mann photograph alberta rocky mountain superb ...   \n",
       "3  kind snowy sunday afternoon rest world go ahea...   \n",
       "4  others mention woman go nude mostly absolutely...   \n",
       "\n",
       "                                         Word Counts  \n",
       "0  {'absolutely': 1, 'act': 1, 'actor': 2, 'affai...  \n",
       "1  {'accord': 1, 'admit': 1, 'anything': 1, 'asle...  \n",
       "2  {'alberta': 1, 'always': 1, 'american': 1, 'ap...  \n",
       "3  {'afternoon': 1, 'ahead': 1, 'along': 1, 'alwa...  \n",
       "4  {'ably': 1, 'absolutely': 1, 'age': 1, 'around...  "
      ]
     },
     "execution_count": 33,
     "metadata": {},
     "output_type": "execute_result"
    }
   ],
   "source": [
    "#create a new column with words and word counts\n",
    "vectorizer = CountVectorizer()\n",
    "analyzer = vectorizer.build_analyzer()\n",
    "\n",
    "def wordcounts(s):\n",
    "    c = {}\n",
    "    if analyzer(s):\n",
    "        d = {}\n",
    "        w = vectorizer.fit_transform([s]).toarray()\n",
    "        vc = vectorizer.vocabulary_\n",
    "        for k,v in vc.items():\n",
    "            d[v]=k # d -> index:word \n",
    "        for index,i in enumerate(w[0]):\n",
    "            c[d[index]] = i # c -> word:count\n",
    "    return  c\n",
    "\n",
    "df['Word Counts'] = df.text.apply(wordcounts)\n",
    "df.head()"
   ]
  },
  {
   "cell_type": "code",
   "execution_count": 34,
   "metadata": {},
   "outputs": [
    {
     "name": "stdout",
     "output_type": "stream",
     "text": [
      "[('actor', 2), ('christopher', 2), ('could', 2), ('great', 2), ('like', 2), ('pathetic', 2), ('walken', 2), ('absolutely', 1), ('act', 1), ('affair', 1), ('alonso', 1), ('appear', 1), ('barely', 1), ('case', 1), ('columbian', 1), ('conchita', 1), ('devoid', 1), ('disappoint', 1), ('dont', 1), ('early', 1), ('emotional', 1), ('even', 1), ('good', 1), ('history', 1), ('ironside', 1), ('love', 1), ('lure', 1), ('make', 1), ('maria', 1), ('mean', 1), ('michael', 1), ('must', 1), ('name', 1), ('ninety', 1), ('nothing', 1), ('phony', 1), ('piece', 1), ('plug', 1), ('propaganda', 1), ('pseudo', 1), ('real', 1), ('rebel', 1), ('redeem', 1), ('revolution', 1), ('ridiculous', 1), ('role', 1), ('ruin', 1), ('scene', 1), ('simply', 1), ('sit', 1), ('storyline', 1), ('terrible', 1), ('walkens', 1), ('worst', 1)]\n"
     ]
    }
   ],
   "source": [
    "import operator\n",
    "\n",
    "first_review = df['Word Counts'].iloc[0]\n",
    "sorted_by_value = sorted(first_review.items(), key=operator.itemgetter(1),reverse=True)\n",
    "print(sorted_by_value )"
   ]
  }
 ],
 "metadata": {
  "kernelspec": {
   "display_name": "Python 3.8.12 64-bit ('nlpreviews')",
   "language": "python",
   "name": "python3"
  },
  "language_info": {
   "codemirror_mode": {
    "name": "ipython",
    "version": 3
   },
   "file_extension": ".py",
   "mimetype": "text/x-python",
   "name": "python",
   "nbconvert_exporter": "python",
   "pygments_lexer": "ipython3",
   "version": "3.8.12"
  },
  "orig_nbformat": 4,
  "vscode": {
   "interpreter": {
    "hash": "ecbb573cc41fe6baf34354607df718ebf4ab136e8601a96e7a6da1a1db011e8e"
   }
  }
 },
 "nbformat": 4,
 "nbformat_minor": 2
}
